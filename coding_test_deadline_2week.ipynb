{
 "cells": [
  {
   "cell_type": "markdown",
   "metadata": {},
   "source": [
    "```1주차: 기본기 다지기 (4월 9일-15일)\n",
    "4월 9일: 파이썬 기초 & 문자열/리스트\n",
    "\n",
    "기본 문법, 조건문, 반복문 복습\n",
    "문자열 메서드와 리스트 메서드 완벽 숙달\n",
    "실습: 문자열/리스트 조작 문제 5개\n",
    "\n",
    "4월 10일: 딕셔너리 & 집합\n",
    "\n",
    "딕셔너리 기본 사용법 및 활용\n",
    "집합(set) 연산과 활용법\n",
    "Counter, defaultdict 활용\n",
    "실습: 해시 관련 문제 5개\n",
    "\n",
    "4월 11일: 스택/큐 & 기본 정렬\n",
    "\n",
    "스택과 큐 구현 및 활용\n",
    "파이썬 정렬 기능 활용(sort, sorted)\n",
    "실습: 스택/큐 문제 3개, 정렬 문제 2개\n",
    "\n",
    "4월 12일: 그리디 & 완전탐색\n",
    "\n",
    "그리디 알고리즘 기본 개념\n",
    "완전탐색(브루트포스) 접근법\n",
    "실습: 그리디 문제 3개, 완전탐색 문제 2개\n",
    "\n",
    "4월 13일: DFS/BFS 기초\n",
    "\n",
    "DFS/BFS 개념과 기본 구현\n",
    "실습: 간단한 DFS/BFS 문제 5개\n",
    "\n",
    "4월 14-15일: 기본기 종합 문제풀이\n",
    "\n",
    "지금까지 배운 내용으로 다양한 문제 풀이\n",
    "Programmers 레벨 1-2 문제 10개\n",
    "백준 브론즈~실버 문제 10개\n",
    "\n",
    "2주차: 실전 연습 및 패턴 학습 (4월 16일-22일)\n",
    "4월 16일: 유형별 패턴 학습 I\n",
    "\n",
    "투 포인터 기법\n",
    "슬라이딩 윈도우\n",
    "실습: 관련 문제 5개\n",
    "\n",
    "4월 17일: 유형별 패턴 학습 II\n",
    "\n",
    "이진 탐색 기본\n",
    "간단한 재귀 함수\n",
    "실습: 관련 문제 5개\n",
    "\n",
    "4월 18일: 문제 유형 파악 훈련\n",
    "\n",
    "다양한 문제를 보고 적절한 자료구조/알고리즘 선택하기\n",
    "실습: 혼합 유형 문제 8개\n",
    "\n",
    "4월 19-20일: 모의고사 (2세트)\n",
    "\n",
    "실제 코딩 테스트 환경 구성\n",
    "시간 제한 하에 문제 풀이\n",
    "풀이 분석 및 개선점 도출\n",
    "\n",
    "4월 21-22일: 최종 점검 및 약점 보완\n",
    "\n",
    "취약 유형 집중 연습\n",
    "자주 등장하는 패턴 재정리\n",
    "시간 복잡도 분석 연습\n",
    "\n",
    "인턴 코딩 테스트 특화 학습 방법\n",
    "\n",
    "패턴 인식에 집중하기: 문제 유형을 빠르게 파악하는 능력 기르기\n",
    "시간 관리 연습: 문제당 20-30분 내에 풀이 완료하기\n",
    "기본기 다지기: 복잡한 알고리즘보다 기본 자료구조 활용에 집중\n",
    "테스트 케이스 연습: 경계 조건, 예외 상황 처리하는 습관 들이기\n",
    "코드 가독성 향상: 주석 작성, 변수명 명확히 하기\n",
    "\n",
    "핵심 자료구조 및 알고리즘 우선순위\n",
    "우선순위 1 (반드시 마스터)\n",
    "\n",
    "리스트, 문자열 조작\n",
    "딕셔너리(해시맵)\n",
    "스택/큐\n",
    "정렬\n",
    "완전탐색\n",
    "\n",
    "우선순위 2 (잘 알아두기)\n",
    "\n",
    "DFS/BFS 기본\n",
    "그리디 알고리즘\n",
    "투 포인터/슬라이딩 윈도우\n",
    "이진 탐색\n",
    "\n",
    "우선순위 3 (시간 남으면 학습)\n",
    "\n",
    "간단한 DP\n",
    "힙/우선순위 큐"
   ]
  },
  {
   "cell_type": "code",
   "execution_count": 1,
   "metadata": {},
   "outputs": [
    {
     "name": "stdout",
     "output_type": "stream",
     "text": [
      "3.3333333333333335\n",
      "3\n",
      "1\n",
      "1000\n",
      "True\n"
     ]
    }
   ],
   "source": [
    "a = 10 \n",
    "b = 3\n",
    "\n",
    "print(a / b)\n",
    "print(a // b) # 몫\n",
    "print(a % b) # 나머지\n",
    "print(a ** b) # 제곱\n",
    "\n",
    "print(a != b) # 틀렸다\n"
   ]
  },
  {
   "cell_type": "code",
   "execution_count": 3,
   "metadata": {},
   "outputs": [
    {
     "name": "stdout",
     "output_type": "stream",
     "text": [
      "student\n"
     ]
    }
   ],
   "source": [
    "age =13\n",
    "\n",
    "if age >= 20:\n",
    "    print(\"성인입니다\")\n",
    "elif age >= 13:\n",
    "    print(\"student\")\n",
    "else:\n",
    "    print(\"child\")\n",
    "\n"
   ]
  },
  {
   "cell_type": "code",
   "execution_count": 4,
   "metadata": {},
   "outputs": [
    {
     "name": "stdout",
     "output_type": "stream",
     "text": [
      "0\n",
      "1\n",
      "2\n",
      "3\n",
      "4\n"
     ]
    }
   ],
   "source": [
    "for i in range(5):\n",
    "    print(i)"
   ]
  },
  {
   "cell_type": "code",
   "execution_count": 5,
   "metadata": {},
   "outputs": [
    {
     "name": "stdout",
     "output_type": "stream",
     "text": [
      "0\n",
      "1\n",
      "2\n",
      "3\n",
      "4\n"
     ]
    }
   ],
   "source": [
    "count = 0\n",
    "while count < 5: # ~ 동안 -> 카운트가 5이하를\n",
    "    print(count)\n",
    "    count += 1 # 더한다"
   ]
  },
  {
   "cell_type": "code",
   "execution_count": 19,
   "metadata": {},
   "outputs": [
    {
     "name": "stdout",
     "output_type": "stream",
     "text": [
      "1\n",
      "banana\n",
      "[1, 2, 3, 'banana', 4, 6]\n"
     ]
    }
   ],
   "source": [
    "numbers = [1, 2, 3, 4, 5]\n",
    "fruits =[\"apple\", \"banana\", \"orange\"]\n",
    "print(numbers[0])\n",
    "print(fruits[1])\n",
    "\n",
    "numbers.append(6) # append 추가\n",
    "numbers.insert(3, \"banana\") # 해당위치에 값추가\n",
    "numbers.remove(5)\n",
    "print(numbers)"
   ]
  },
  {
   "cell_type": "code",
   "execution_count": 21,
   "metadata": {},
   "outputs": [
    {
     "name": "stdout",
     "output_type": "stream",
     "text": [
      "두수의 합: 46\n"
     ]
    }
   ],
   "source": [
    "a= int(input(\"첫번째 숫자: \"))\n",
    "b = int(input(\"secend_numbers:\"))\n",
    "print(\"두수의 합:\", a + b)"
   ]
  },
  {
   "cell_type": "code",
   "execution_count": 24,
   "metadata": {},
   "outputs": [
    {
     "name": "stdout",
     "output_type": "stream",
     "text": [
      "2 4 6 8 10 "
     ]
    }
   ],
   "source": [
    "# 그 자체로 이해하고 느낌을 파악하고 그느낌에 익숙해져야해 한글로 해석하려하지마\n",
    "\n",
    "\n",
    "\"\"\"1부터 10까지의 숫자 중 짝수만 출력하는 프로그램을 작성해보세요\"\"\"\n",
    "\n",
    "for i in range(1, 11):\n",
    "    if i % 2 == 0:\n",
    "        print(i, end=\" \") # end의 기본값  =\"\\n\" 그래서 줄바꿈 안함\n"
   ]
  },
  {
   "cell_type": "code",
   "execution_count": 39,
   "metadata": {},
   "outputs": [
    {
     "name": "stdout",
     "output_type": "stream",
     "text": [
      "[2, 3, 4]\n",
      "[0, 1, 2, 3, 4]\n",
      "[4, 5, 6, 7, 8, 9]\n",
      "[0, 2, 4, 6, 8]\n",
      "[9, 7, 5, 3, 1]\n",
      "[5, 3]\n",
      "[1, 2, 3, 4, 5, 6]\n",
      "6\n"
     ]
    }
   ],
   "source": [
    "numbers =[0, 1, 2, 3, 4, 5, 6, 7, 8, 9]\n",
    "\n",
    "print(numbers[2:5])\n",
    "print(numbers[:5])# 처음부터\n",
    "print(numbers[4:])# 끝까지\n",
    "print(numbers[::2])# 처음부터 끝까지 2칸 건너뛰면서\n",
    "print(numbers[::-2])# 역순으로 두칸씩 건너뛰면서\n",
    "print(numbers[5:2:-2]) # list =[1,2,3] list[start:stop:step] 역방향일떄는 start가 큰수여야함 \n",
    "\n",
    "list1 = [1,2,3]\n",
    "list2 = [4,5,6]\n",
    "\n",
    "comb = list1 + list2\n",
    "\n",
    "print(comb)\n",
    "\n",
    "print(len(comb)) # 리스트의 길이를 알수있다\n"
   ]
  },
  {
   "cell_type": "code",
   "execution_count": 40,
   "metadata": {},
   "outputs": [
    {
     "name": "stdout",
     "output_type": "stream",
     "text": [
      "10\n",
      "25\n",
      "john\n",
      "25\n"
     ]
    }
   ],
   "source": [
    "coordonate = (10, 20)\n",
    "person = (\"john\", 25, \"developer\")\n",
    "\n",
    "print(coordonate[0])\n",
    "print(person[1])\n",
    "\n",
    "# 튜플은 수정 불가능\n",
    "# coordinates[0] = 15  # 오류 발생\n",
    "\n",
    "name, age, job =person\n",
    "print(name)\n",
    "print(age)"
   ]
  },
  {
   "cell_type": "code",
   "execution_count": null,
   "metadata": {},
   "outputs": [],
   "source": [
    "# 기본 함수 정의\n",
    "def greet(name):\n",
    "    return \"Hello, \" + name + \"!\"\n",
    "\n",
    "# 함수 호출\n",
    "message = greet(\"Python\")\n",
    "print(message)  # \"Hello, Python!\"\n",
    "\n",
    "# 기본값 매개변수\n",
    "def greet_with_time(name, time=\"morning\"):\n",
    "    return f\"Good {time}, {name}!\"\n",
    "\n",
    "print(greet_with_time(\"Python\"))        # \"Good morning, Python!\"\n",
    "print(greet_with_time(\"Python\", \"evening\"))  # \"Good evening, Python!\"\n",
    "\n",
    "# 여러 값 반환\n",
    "def get_min_max(numbers):\n",
    "    return min(numbers), max(numbers)\n",
    "\n",
    "minimum, maximum = get_min_max([5, 2, 7, 1, 9])\n",
    "print(minimum, maximum)  # 1 9"
   ]
  },
  {
   "cell_type": "code",
   "execution_count": 43,
   "metadata": {},
   "outputs": [
    {
     "name": "stdout",
     "output_type": "stream",
     "text": [
      "최대값: 9, 인덱스:4\n"
     ]
    }
   ],
   "source": [
    "# def find_max_and_index(numbers):\n",
    "#     if not numbers:  # 빈 리스트 확인\n",
    "#         return None, -1\n",
    "    \n",
    "#     max_value = numbers[0]\n",
    "#     max_index = 0\n",
    "    \n",
    "#     for i in range(1, len(numbers)):\n",
    "#         if numbers[i] > max_value:\n",
    "#             max_value = numbers[i]\n",
    "#             max_index = i\n",
    "    \n",
    "#     return max_value, max_index\n",
    "\n",
    "# # 테스트\n",
    "# test_list = [5, 9, 3, 7, 12, 4]\n",
    "# max_val, max_idx = find_max_and_index(test_list)\n",
    "# print(f\"최대값: {max_val}, 인덱스: {max_idx}\")  # 최대값: 12, 인덱스: 4 \n",
    "\n",
    "\n",
    "def find_max(numbers):\n",
    "    if not numbers:\n",
    "        return None, -1\n",
    "    \n",
    "    max_value = numbers[0]\n",
    "    max_index = 0\n",
    "    for i in range(1, len(numbers)):\n",
    "        if numbers[i] > max_value:\n",
    "            max_value = numbers[1]\n",
    "            max_index = i \n",
    "    return max_value, max_index # []는 리스트와 인덱싱에 사용\n",
    "\n",
    "test_list = [5, 9, 3, 7, 12, 4]\n",
    "max_val, max_idx = find_max(test_list)\n",
    "print(f\"최대값: {max_val}, 인덱스:{max_idx}\")\n",
    "\n",
    "#인덱싱은 데이터 구조에서 특정요서에 접근하기위해 사용하는 방법 / 리스트 튜플 문자열 순서가 있는 데이터 구조에서 사용\n",
    "# [::] 슬라이싱도 인덱싱의 한형태\n",
    "\n",
    "#중괄호 {}는 딕셔너리와 집합에 사용되고,\n",
    "#대괄호 []는 리스트와 인덱싱에 사용되며,\n",
    "#소괄호 ()는 함수 호출, 튜플, 수학적 표현에 사용됩니다.\n",
    "\n",
    "\n",
    "\n"
   ]
  },
  {
   "cell_type": "code",
   "execution_count": 46,
   "metadata": {},
   "outputs": [
    {
     "name": "stdout",
     "output_type": "stream",
     "text": [
      "6\n",
      "26\n"
     ]
    }
   ],
   "source": [
    "def sum_if_digits(number):\n",
    "    total = 0\n",
    "    for digit in str(number):\n",
    "        total += int(digit)\n",
    "    return total\n",
    "\n",
    "print(sum_if_digits(123))\n",
    "print(sum_if_digits(9872))\n",
    "\n"
   ]
  },
  {
   "cell_type": "code",
   "execution_count": 47,
   "metadata": {},
   "outputs": [
    {
     "name": "stdout",
     "output_type": "stream",
     "text": [
      "0: apple\n",
      "1: banana\n",
      "2: orange\n"
     ]
    }
   ],
   "source": [
    "for index, fruit in enumerate(fruits): # index를 심어주면 그 순서에 맞게 인덱스 값이 나온다\n",
    "    print(f\"{index}: {fruit}\")\n"
   ]
  },
  {
   "cell_type": "code",
   "execution_count": 48,
   "metadata": {},
   "outputs": [
    {
     "name": "stdout",
     "output_type": "stream",
     "text": [
      "name: John\n",
      "age: 30\n",
      "city: New York\n"
     ]
    }
   ],
   "source": [
    "person = {\"name\": \"John\", \"age\": 30, \"city\": \"New York\"}\n",
    "for key in person:\n",
    "    print(f\"{key}: {person[key]}\")"
   ]
  },
  {
   "cell_type": "code",
   "execution_count": 50,
   "metadata": {},
   "outputs": [
    {
     "name": "stdout",
     "output_type": "stream",
     "text": [
      "name: John\n",
      "age: 30\n",
      "city: New York\n"
     ]
    }
   ],
   "source": [
    "for key, value in person.items():\n",
    "    print(f\"{key}: {value}\")"
   ]
  },
  {
   "cell_type": "code",
   "execution_count": 52,
   "metadata": {},
   "outputs": [
    {
     "name": "stdout",
     "output_type": "stream",
     "text": [
      "0\n",
      "1\n",
      "2\n",
      "3\n",
      "4\n"
     ]
    }
   ],
   "source": [
    "num = 0\n",
    "while True:\n",
    "    print(num)\n",
    "    num += 1\n",
    "    if num >= 5:\n",
    "        break"
   ]
  },
  {
   "cell_type": "code",
   "execution_count": 53,
   "metadata": {},
   "outputs": [
    {
     "name": "stdout",
     "output_type": "stream",
     "text": [
      "1\n",
      "3\n",
      "5\n",
      "7\n",
      "9\n"
     ]
    }
   ],
   "source": [
    "for i in range(10):\n",
    "    if i % 2 == 0:\n",
    "        continue  # 짝수인 경우 건너뛰기\n",
    "    print(i)  # 1, 3, 5, 7, 9 출력"
   ]
  },
  {
   "cell_type": "code",
   "execution_count": 54,
   "metadata": {},
   "outputs": [],
   "source": [
    "# 요소 추가\n",
    "numbers = [1, 2, 3]\n",
    "numbers.append(4)  # [1, 2, 3, 4] - 끝에 추가\n",
    "numbers.insert(0, 0)  # [0, 1, 2, 3, 4] - 지정 위치에 추가\n",
    "numbers.extend([5, 6])  # [0, 1, 2, 3, 4, 5, 6] - 리스트 확장\n"
   ]
  },
  {
   "cell_type": "code",
   "execution_count": null,
   "metadata": {},
   "outputs": [],
   "source": [
    "numbers.remove(3)  # [0, 1, 2, 4, 5, 6] - 값으로 제거\n",
    "popped = numbers.pop()  # 6, numbers = [0, 1, 2, 4, 5] - 마지막 요소 제거 후 반환\n",
    "popped_at = numbers.pop(1)  # 1, numbers = [0, 2, 4, 5] - 인덱스로 제거\n",
    "numbers.clear()  # [] - 모든 요소 제거"
   ]
  },
  {
   "cell_type": "code",
   "execution_count": null,
   "metadata": {},
   "outputs": [],
   "source": [
    "numbers = [1, 2, 3, 2, 4]\n",
    "count_2 = numbers.count(2)  # 2 - 같은 값이 몇게 있는지 셈\n",
    "index_3 = numbers.index(3)  # 2 - 값의 위치 (첫 번째 등장)\n"
   ]
  },
  {
   "cell_type": "code",
   "execution_count": null,
   "metadata": {},
   "outputs": [],
   "source": [
    "numbers = [3, 1, 4, 2]\n",
    "numbers.sort()  # [1, 2, 3, 4] - 오름차순 정렬\n",
    "numbers.sort(reverse=True)  # [4, 3, 2, 1] - 내림차순 정렬\n",
    "numbers.reverse()  # [1, 2, 3, 4] - 순서 뒤집기\n"
   ]
  },
  {
   "cell_type": "code",
   "execution_count": null,
   "metadata": {},
   "outputs": [],
   "source": [
    "original = [1, 2, 3]\n",
    "shallow_copy = original.copy()  # 얕은 복사\n"
   ]
  },
  {
   "cell_type": "code",
   "execution_count": 55,
   "metadata": {},
   "outputs": [
    {
     "data": {
      "text/plain": [
       "'\\n들여쓰기: 공백 4칸 사용 (탭 대신)\\n변수명: 소문자와 언더스코어(_) 사용 (snake_case)\\n상수: 대문자와 언더스코어 사용 (MAX_VALUE)\\n주석: 코드 설명은 # 뒤에 한 칸 띄우고 작성\\n문자열: 큰따옴표(\")와 작은따옴표(\\') 일관되게 사용\\n줄 길이: 한 줄은 79자 이내로 작성\\n공백: 연산자 주변에 공백 넣기 (x = 1 + 2)'"
      ]
     },
     "execution_count": 55,
     "metadata": {},
     "output_type": "execute_result"
    }
   ],
   "source": [
    "\"\"\"\n",
    "들여쓰기: 공백 4칸 사용 (탭 대신)\n",
    "변수명: 소문자와 언더스코어(_) 사용 (snake_case)\n",
    "상수: 대문자와 언더스코어 사용 (MAX_VALUE)\n",
    "주석: 코드 설명은 # 뒤에 한 칸 띄우고 작성\n",
    "문자열: 큰따옴표(\")와 작은따옴표(') 일관되게 사용\n",
    "줄 길이: 한 줄은 79자 이내로 작성\n",
    "공백: 연산자 주변에 공백 넣기 (x = 1 + 2)\n",
    "\"\"\""
   ]
  },
  {
   "cell_type": "code",
   "execution_count": null,
   "metadata": {},
   "outputs": [],
   "source": [
    "# 기본 메서드\n",
    "print(text.upper())  # 대문자 변환\n",
    "print(text.lower())  # 소문자 변환\n",
    "print(text.strip())  # 양쪽 공백 제거\n",
    "print(text.replace(\"Python\", \"Java\"))  # 문자열 교체\n",
    "# 분할과 결합\n",
    "words = text.split(\",\")  # 쉼표로 분할 -> ['  Hello', ' Python Programming!  ']\n",
    "joined = \"-\".join(words)  # 하이픈으로 결합 -> '  Hello- Python Programming!  '\n",
    "\n",
    "# 검색\n",
    "position = text.find(\"Python\")  # 문자열 위치 찾기 (없으면 -1)\n",
    "count = text.count(\"o\")  # 특정 문자 개수 세기\n",
    "\n",
    "# 판별 함수\n",
    "print(\"abc123\".isalnum())  # 알파벳 또는 숫자인지\n",
    "print(\"123\".isdigit())     # 숫자인지\n",
    "print(\"ABC\".isupper())     # 대문자인지"
   ]
  },
  {
   "cell_type": "code",
   "execution_count": null,
   "metadata": {},
   "outputs": [],
   "source": [
    "# 기본 형태: [표현식 for 항목 in 반복가능객체 if 조건문]\n",
    "\n",
    "# 1~10 제곱 리스트\n",
    "squares = [x**2 for x in range(1, 11)]  # [1, 4, 9, 16, 25, 36, 49, 64, 81, 100]\n",
    "\n",
    "# 짝수만 필터링\n",
    "evens = [x for x in range(1, 11) if x % 2 == 0]  # [2, 4, 6, 8, 10]\n",
    "\n",
    "# 중첩 반복문\n",
    "pairs = [(x, y) for x in range(1, 3) for y in range(1, 3)]  # [(1, 1), (1, 2), (2, 1), (2, 2)]\n",
    "\n",
    "[x**2 for x in range(1, 11)]"
   ]
  },
  {
   "cell_type": "markdown",
   "metadata": {},
   "source": [
    "문제 1: 회문 판별\n",
    "주어진 문자열이 회문(palindrome)인지 판별하는 함수를 작성하세요."
   ]
  },
  {
   "cell_type": "code",
   "execution_count": null,
   "metadata": {},
   "outputs": [],
   "source": [
    "def is_palindrome(s):\n",
    "    s = ''.join(c.lower() for c in s if c.isalnum())\n",
    "\n",
    "    return s == s[::-1]\n",
    "\n",
    "\n",
    "# split() 공백을 기준으로 분리\n",
    "# map 문자열을 정수로 바꿈\n"
   ]
  },
  {
   "cell_type": "code",
   "execution_count": null,
   "metadata": {},
   "outputs": [],
   "source": [
    "strip() # 문자열 양쪽에 있는 공백문자 제거 \n",
    "lstrip() # 왼쪽 공백만 제거\n",
    "\n",
    "replace() # 문자열 내에서 특정 문자열을 변경한다 \n",
    "new_text = text.replace(\"Hello\", \"Good\", 1) # 첫번쨰 찾을 문자열, 두번째 대체할 문자열 , 세번째 변경횟수 지정 \"생략시 대체가능한 모든 문자열에 적용\"\n",
    "split() # 문자열 분할후 리스트로 반환 구분자를 지정하지 않을시 공백으로 구분자를 구별 \n",
    "join() 리스트의 요소를 하나의 문자열로 결합 \n",
    "words = ['Apple', 'Grape', 'Mango']\n",
    "sentence = \",\".join(words)\n",
    "print(sentence)  # 출력: \"Apple,Grape,Mango\"\n",
    "\n",
    "find() 문자열 내에 특정문자열 위치를 찾아 인덱스 반환 \n",
    "없으면 -1  출ㄹ력\n",
    "index() 문자열 내에서 특정 문자열의 첫 등장위치를 찾아 인덱스를 반환 \n",
    "\n",
    "\n",
    "text = \"Hello, World!\"\n",
    "print(text.index(\"World\"))  # 출력: 7\n",
    "print(text.index(\"Python\")) # 오류 발생: ValueError\n",
    "\n",
    "find()는 안전하게 문자열의 위치를 찾고 싶을 때 사용하고,\n",
    "index()는 문자열이 반드시 존재한다고 확신할 때 사용합니다.\n",
    "\n",
    "\n",
    "count() 문자열 내에서 특정 문자열이 볓번 등장한느지 세어 반환\n",
    "text = \"banana\"\n",
    "print(text.count(\"a\"))  # 출력: 3\n",
    "\n",
    "\n",
    "in 문자열에서 특정 문자열이나 문자가 포함되어ㅣㅆ는지 확인하는 연산자 \n",
    "결과로 true false 값을 반환\n",
    "\n",
    "text = \"Python Programming\"\n",
    "print(\"Python\" in text)  # 출력: True\n",
    "print(\"python\" in text)  # 출력: False\n",
    "print(\"on Program\" in text)  # 출력: Tru\n",
    "\n"
   ]
  },
  {
   "cell_type": "code",
   "execution_count": null,
   "metadata": {},
   "outputs": [],
   "source": [
    "continue # 해당되는 부분을 건너 뛴다\n",
    "\n",
    "\n",
    "for i in range(10):\n",
    "    if i % 2 == 0:  # 짝수인 경우\n",
    "        continue  # 현재 반복을 건너뛰고 다음 반복으로 이동\n",
    "    print(i)  # \n",
    "\n",
    "break 문\n",
    "설명\n",
    "반복문을 즉시 종료시키는 제어문입니다.\n",
    "특정 조건을 만족하면 반복문 전체를 중단합니다.\n",
    "\n",
    "\n"
   ]
  },
  {
   "cell_type": "code",
   "execution_count": null,
   "metadata": {},
   "outputs": [],
   "source": [
    "\n",
    "cnt 변수란?\n",
    "반복문 내에서 특정 조건을 만족하는 요소의 개수를 세는 데 사용되는 변수입니다.\n",
    "변수의 이름은 자유롭게 지정할 수 있습니다.\n",
    "\n",
    "cnt라는 이름은 단순히 \"count\"의 약어로 많이 사용됩니다.\n",
    "\n",
    "total 변수의 사용\n",
    "total 변수란?\n",
    "반복문 내에서 여러 수의 합계를 계산하는 데 사용되는 변수입니다.\n",
    "일반적으로 total과 같은 이름을 사용하며, 원하는 대로 이름을 지정할 수 있습니다."
   ]
  },
  {
   "cell_type": "code",
   "execution_count": null,
   "metadata": {},
   "outputs": [],
   "source": [
    "조건을 이용한 반복 제어\n",
    "무한 루프 안에서 특정 조건을 만나면 반복을 종료하는 방법을 배웠습니다. 그런 방법도 많이 쓰이지만, while문의 반복 조건을 잘 설정해 break문 없이 반복하는 방식도 자주 사용됩니다.\n",
    "조건을 이용한 반복 제어는 특정 조건이 만족될 때까지 반복을 계속함으로써 유동적인 반복 횟수를 설정할 수 있게 해줍니다.\n",
    "예제: 사용자로부터 양수를 입력받기\n",
    "\n",
    "num = -1\n",
    "while num < 0:\n",
    "    num = int(input(\"양수를 입력하세요: \"))\n",
    "    if num < 0:\n",
    "        print(\"양수가 아닙니다. 다시 시도하세요.\")\n",
    "print(\"입력한 양수:\", num)\n",
    "실행 결과:\n",
    "\n",
    "양수를 입력하세요: -5\n",
    "양수가 아닙니다. 다시 시도하세요.\n",
    "양수를 입력하세요: 10\n",
    "입력한 양수: 10\n",
    "\n",
    "\n",
    "사용자 입력을 통한 반복 제어\n",
    "사용자의 입력에 따라 반복을 계속하거나 종료할 수 있습니다.\n",
    "예제: 로그인 시도 제한\n",
    "\n",
    "correct_password = \"python123\"\n",
    "attempts = 0\n",
    "max_attempts = 3\n",
    "\n",
    "while attempts < max_attempts:\n",
    "    password = input(\"비밀번호를 입력하세요: \")\n",
    "    if password == correct_password:\n",
    "        print(\"로그인 성공!\")\n",
    "        break\n",
    "    else:\n",
    "        attempts += 1\n",
    "        print(f\"비밀번호가 틀렸습니다. {max_attempts - attempts}회 남았습니다.\")\n",
    "else:\n",
    "    print(\"로그인 시도 횟수를 초과했습니다.\")\n",
    "실행 결과 예시:\n",
    "\n",
    "비밀번호를 입력하세요: wrongpass\n",
    "비밀번호가 틀렸습니다. 2회 남았습니다.\n",
    "비밀번호를 입력하세요: wrongpass\n",
    "비밀번호가 틀렸습니다. 1회 남았습니다.\n",
    "비밀번호를 입력하세요: python123\n",
    "로그인 성공!\n",
    "\n",
    "\n",
    "이렇게 사용할수있구나"
   ]
  },
  {
   "cell_type": "code",
   "execution_count": null,
   "metadata": {},
   "outputs": [],
   "source": [
    "my_array = [[1, 2, 3], [4, 5, 6], [7, 8, 9]]\n",
    "\n",
    "# 2행 1열의 값 가져오기 (7)\n",
    "print(my_array[2][0])  # 답: 7\n",
    "\n",
    "# 1행 2열의 값 가져오기 (6)\n",
    "print(my_array[1][2])  # 답: 6"
   ]
  },
  {
   "cell_type": "code",
   "execution_count": null,
   "metadata": {},
   "outputs": [],
   "source": [
    "my_array = [[1, 2, 3], [4, 5, 6], [7, 8, 9]]\n",
    "\n",
    "for i in range(3):      # 행을 돌아요\n",
    "    for j in range(3):  # 열을 돌아요\n",
    "        print(my_array[i][j], end=\" \")\n",
    "    print()  # 한 행이 끝나면 줄바꿈\n",
    "\n",
    "# 출력:\n",
    "# 1 2 3\n",
    "# 4 5 6\n",
    "# 7 8 9\n",
    "\n",
    "my_array[i][j]의 의미 🧐\n",
    "파이썬에서 2차원 배열에 접근할 때는 항상 행이 먼저, 열이 나중이에요:\n",
    "\n",
    "첫 번째 대괄호 [i]: 몇 번째 행을 선택할지\n",
    "두 번째 대괄호 [j]: 그 행에서 몇 번째 열을 선택할지\n",
    "\n",
    "반복문이 작동하는 방식 🔄\n",
    "pythonfor i in range(3):      # i는 행 번호 (0, 1, 2)\n",
    "    for j in range(3):  # j는 열 번호 (0, 1, 2)\n",
    "        print(my_array[i][j], end=\" \")\n",
    "    print()  # 한 행이 끝나면 줄바꿈\n",
    "작동 순서:\n",
    "\n",
    "i=0일 때 (첫 번째 행):\n",
    "\n",
    "j=0: my_array[0][0] = 1 출력\n",
    "j=1: my_array[0][1] = 2 출력\n",
    "j=2: my_array[0][2] = 3 출력\n",
    "줄바꿈\n",
    "\n",
    "\n",
    "i=1일 때 (두 번째 행):\n",
    "\n",
    "j=0, j=1, j=2 순서로 진행\n",
    "4, 5, 6 출력\n",
    "줄바꿈\n",
    "\n",
    "\n",
    "i=2일 때 (세 번째 행):\n",
    "\n",
    "j=0, j=1, j=2 순서로 진행\n",
    "7, 8, 9 출력\n",
    "\n",
    "\n",
    "\n",
    "왜 j가 열을 도는 걸까요? 🤔\n",
    "i는 바깥쪽 반복문이라서 행을 하나씩 선택해요.\n",
    "j는 안쪽 반복문이라서 각 행에서 열을 하나씩 선택해요.\n",
    "즉, i가 고정된 상태에서 j가 0부터 2까지 변하면, 한 행의 모든 열"
   ]
  }
 ],
 "metadata": {
  "kernelspec": {
   "display_name": "Python (mldl)",
   "language": "python",
   "name": "mldl"
  },
  "language_info": {
   "codemirror_mode": {
    "name": "ipython",
    "version": 3
   },
   "file_extension": ".py",
   "mimetype": "text/x-python",
   "name": "python",
   "nbconvert_exporter": "python",
   "pygments_lexer": "ipython3",
   "version": "3.12.7"
  }
 },
 "nbformat": 4,
 "nbformat_minor": 2
}
