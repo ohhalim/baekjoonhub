{
 "cells": [
  {
   "cell_type": "code",
   "execution_count": 1,
   "metadata": {},
   "outputs": [
    {
     "name": "stdout",
     "output_type": "stream",
     "text": [
      "3.3333333333333335\n",
      "3\n",
      "1\n",
      "1000\n",
      "True\n"
     ]
    }
   ],
   "source": [
    "a = 10 \n",
    "b = 3\n",
    "\n",
    "print(a / b)\n",
    "print(a // b) # 몫\n",
    "print(a % b) # 나머지\n",
    "print(a ** b) # 제곱\n",
    "\n",
    "print(a != b) # 틀렸다\n"
   ]
  },
  {
   "cell_type": "code",
   "execution_count": 3,
   "metadata": {},
   "outputs": [
    {
     "name": "stdout",
     "output_type": "stream",
     "text": [
      "student\n"
     ]
    }
   ],
   "source": [
    "age =13\n",
    "\n",
    "if age >= 20:\n",
    "    print(\"성인입니다\")\n",
    "elif age >= 13:\n",
    "    print(\"student\")\n",
    "else:\n",
    "    print(\"child\")\n",
    "\n"
   ]
  },
  {
   "cell_type": "code",
   "execution_count": 4,
   "metadata": {},
   "outputs": [
    {
     "name": "stdout",
     "output_type": "stream",
     "text": [
      "0\n",
      "1\n",
      "2\n",
      "3\n",
      "4\n"
     ]
    }
   ],
   "source": [
    "for i in range(5):\n",
    "    print(i)"
   ]
  },
  {
   "cell_type": "code",
   "execution_count": 5,
   "metadata": {},
   "outputs": [
    {
     "name": "stdout",
     "output_type": "stream",
     "text": [
      "0\n",
      "1\n",
      "2\n",
      "3\n",
      "4\n"
     ]
    }
   ],
   "source": [
    "count = 0\n",
    "while count < 5: # ~ 동안 -> 카운트가 5이하를\n",
    "    print(count)\n",
    "    count += 1 # 더한다"
   ]
  },
  {
   "cell_type": "code",
   "execution_count": 19,
   "metadata": {},
   "outputs": [
    {
     "name": "stdout",
     "output_type": "stream",
     "text": [
      "1\n",
      "banana\n",
      "[1, 2, 3, 'banana', 4, 6]\n"
     ]
    }
   ],
   "source": [
    "numbers = [1, 2, 3, 4, 5]\n",
    "fruits =[\"apple\", \"banana\", \"orange\"]\n",
    "print(numbers[0])\n",
    "print(fruits[1])\n",
    "\n",
    "numbers.append(6) # append 추가\n",
    "numbers.insert(3, \"banana\") # 해당위치에 값추가\n",
    "numbers.remove(5)\n",
    "print(numbers)"
   ]
  },
  {
   "cell_type": "code",
   "execution_count": 21,
   "metadata": {},
   "outputs": [
    {
     "name": "stdout",
     "output_type": "stream",
     "text": [
      "두수의 합: 46\n"
     ]
    }
   ],
   "source": [
    "a= int(input(\"첫번째 숫자: \"))\n",
    "b = int(input(\"secend_numbers:\"))\n",
    "print(\"두수의 합:\", a + b)"
   ]
  },
  {
   "cell_type": "code",
   "execution_count": 24,
   "metadata": {},
   "outputs": [
    {
     "name": "stdout",
     "output_type": "stream",
     "text": [
      "2 4 6 8 10 "
     ]
    }
   ],
   "source": [
    "# 그 자체로 이해하고 느낌을 파악하고 그느낌에 익숙해져야해 한글로 해석하려하지마\n",
    "\n",
    "\n",
    "\"\"\"1부터 10까지의 숫자 중 짝수만 출력하는 프로그램을 작성해보세요\"\"\"\n",
    "\n",
    "for i in range(1, 11):\n",
    "    if i % 2 == 0:\n",
    "        print(i, end=\" \") # end의 기본값  =\"\\n\" 그래서 줄바꿈 안함\n"
   ]
  },
  {
   "cell_type": "code",
   "execution_count": 39,
   "metadata": {},
   "outputs": [
    {
     "name": "stdout",
     "output_type": "stream",
     "text": [
      "[2, 3, 4]\n",
      "[0, 1, 2, 3, 4]\n",
      "[4, 5, 6, 7, 8, 9]\n",
      "[0, 2, 4, 6, 8]\n",
      "[9, 7, 5, 3, 1]\n",
      "[5, 3]\n",
      "[1, 2, 3, 4, 5, 6]\n",
      "6\n"
     ]
    }
   ],
   "source": [
    "numbers =[0, 1, 2, 3, 4, 5, 6, 7, 8, 9]\n",
    "\n",
    "print(numbers[2:5])\n",
    "print(numbers[:5])# 처음부터\n",
    "print(numbers[4:])# 끝까지\n",
    "print(numbers[::2])# 처음부터 끝까지 2칸 건너뛰면서\n",
    "print(numbers[::-2])# 역순으로 두칸씩 건너뛰면서\n",
    "print(numbers[5:2:-2]) # list =[1,2,3] list[start:stop:step] 역방향일떄는 start가 큰수여야함 \n",
    "\n",
    "list1 = [1,2,3]\n",
    "list2 = [4,5,6]\n",
    "\n",
    "comb = list1 + list2\n",
    "\n",
    "print(comb)\n",
    "\n",
    "print(len(comb)) # 리스트의 길이를 알수있다\n"
   ]
  },
  {
   "cell_type": "code",
   "execution_count": 40,
   "metadata": {},
   "outputs": [
    {
     "name": "stdout",
     "output_type": "stream",
     "text": [
      "10\n",
      "25\n",
      "john\n",
      "25\n"
     ]
    }
   ],
   "source": [
    "coordonate = (10, 20)\n",
    "person = (\"john\", 25, \"developer\")\n",
    "\n",
    "print(coordonate[0])\n",
    "print(person[1])\n",
    "\n",
    "# 튜플은 수정 불가능\n",
    "# coordinates[0] = 15  # 오류 발생\n",
    "\n",
    "name, age, job =person\n",
    "print(name)\n",
    "print(age)"
   ]
  },
  {
   "cell_type": "code",
   "execution_count": null,
   "metadata": {},
   "outputs": [],
   "source": [
    "# 기본 함수 정의\n",
    "def greet(name):\n",
    "    return \"Hello, \" + name + \"!\"\n",
    "\n",
    "# 함수 호출\n",
    "message = greet(\"Python\")\n",
    "print(message)  # \"Hello, Python!\"\n",
    "\n",
    "# 기본값 매개변수\n",
    "def greet_with_time(name, time=\"morning\"):\n",
    "    return f\"Good {time}, {name}!\"\n",
    "\n",
    "print(greet_with_time(\"Python\"))        # \"Good morning, Python!\"\n",
    "print(greet_with_time(\"Python\", \"evening\"))  # \"Good evening, Python!\"\n",
    "\n",
    "# 여러 값 반환\n",
    "def get_min_max(numbers):\n",
    "    return min(numbers), max(numbers)\n",
    "\n",
    "minimum, maximum = get_min_max([5, 2, 7, 1, 9])\n",
    "print(minimum, maximum)  # 1 9"
   ]
  },
  {
   "cell_type": "code",
   "execution_count": 43,
   "metadata": {},
   "outputs": [
    {
     "name": "stdout",
     "output_type": "stream",
     "text": [
      "최대값: 9, 인덱스:4\n"
     ]
    }
   ],
   "source": [
    "# def find_max_and_index(numbers):\n",
    "#     if not numbers:  # 빈 리스트 확인\n",
    "#         return None, -1\n",
    "    \n",
    "#     max_value = numbers[0]\n",
    "#     max_index = 0\n",
    "    \n",
    "#     for i in range(1, len(numbers)):\n",
    "#         if numbers[i] > max_value:\n",
    "#             max_value = numbers[i]\n",
    "#             max_index = i\n",
    "    \n",
    "#     return max_value, max_index\n",
    "\n",
    "# # 테스트\n",
    "# test_list = [5, 9, 3, 7, 12, 4]\n",
    "# max_val, max_idx = find_max_and_index(test_list)\n",
    "# print(f\"최대값: {max_val}, 인덱스: {max_idx}\")  # 최대값: 12, 인덱스: 4 \n",
    "\n",
    "\n",
    "def find_max(numbers):\n",
    "    if not numbers:\n",
    "        return None, -1\n",
    "    \n",
    "    max_value = numbers[0]\n",
    "    max_index = 0\n",
    "    for i in range(1, len(numbers)):\n",
    "        if numbers[i] > max_value:\n",
    "            max_value = numbers[1]\n",
    "            max_index = i \n",
    "    return max_value, max_index # []는 리스트와 인덱싱에 사용\n",
    "\n",
    "test_list = [5, 9, 3, 7, 12, 4]\n",
    "max_val, max_idx = find_max(test_list)\n",
    "print(f\"최대값: {max_val}, 인덱스:{max_idx}\")\n",
    "\n",
    "#인덱싱은 데이터 구조에서 특정요서에 접근하기위해 사용하는 방법 / 리스트 튜플 문자열 순서가 있는 데이터 구조에서 사용\n",
    "# [::] 슬라이싱도 인덱싱의 한형태\n",
    "\n",
    "\n"
   ]
  },
  {
   "cell_type": "code",
   "execution_count": null,
   "metadata": {},
   "outputs": [],
   "source": []
  }
 ],
 "metadata": {
  "kernelspec": {
   "display_name": "Python (mldl)",
   "language": "python",
   "name": "mldl"
  },
  "language_info": {
   "codemirror_mode": {
    "name": "ipython",
    "version": 3
   },
   "file_extension": ".py",
   "mimetype": "text/x-python",
   "name": "python",
   "nbconvert_exporter": "python",
   "pygments_lexer": "ipython3",
   "version": "3.12.7"
  }
 },
 "nbformat": 4,
 "nbformat_minor": 2
}
