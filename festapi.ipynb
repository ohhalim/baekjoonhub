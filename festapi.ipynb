{
 "cells": [
  {
   "cell_type": "markdown",
   "metadata": {},
   "source": [
    "스키마는 데이터 구조와 형태를 정의하는거 \n",
    "데이터 구조 정의 \n",
    "대이터 검증 \n",
    "문서화\n",
    "\n",
    "사용자 데이터 구조 정의\n",
    "필드의 데디터 타입지정\n",
    "필수필드와 선택적 필드 구분\n",
    "자동데이터 유효성검사 제공\n",
    "\n",
    "drf serializers 와 schema 가 유사함 주로 api 요청 /응답의 형태를 정의하고 검증하는데 사용\n",
    "\n",
    "\n",
    "serializers.pyschemas/user.pyDRF의 시리얼라이저는 FastAPI의 Pydantic 스키마와 유사한 역할\n",
    "viewsets.py / views.pyroutes/users.pyAPI 엔드포인트 처리 로직\n",
    "urls.py (라우터 포함)main.py (라우터 포함)API 라우팅 정의\n",
    "permissions.pydeps.py (보안 의존성)권한 및 인증 처리\n",
    "filters.pydeps.py (필터 의존성)쿼리 필터링 로직\n",
    "pagination.py커스텀 의존성 함수페이지네이션 처리\n",
    "\n",
    "\n",
    "DjangoFastAPI설명 \n",
    "\n",
    "urls.pymain.py의 라우터 부분Django의 URL 라우팅은 FastAPI에서 @app.get(), @router.post() 등의 데코레이터로 처리\n",
    "\n"
   ]
  }
 ],
 "metadata": {
  "language_info": {
   "name": "python"
  }
 },
 "nbformat": 4,
 "nbformat_minor": 2
}
