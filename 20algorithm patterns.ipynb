{
 "cells": [
  {
   "cell_type": "code",
   "execution_count": 4,
   "metadata": {},
   "outputs": [
    {
     "ename": "SyntaxError",
     "evalue": "invalid syntax (2717986496.py, line 1)",
     "output_type": "error",
     "traceback": [
      "\u001b[0;36m  Cell \u001b[0;32mIn[4], line 1\u001b[0;36m\u001b[0m\n\u001b[0;31m    **문제 설명**: 정수 배열 nums와 정수 target이 주어질 때, nums에서 두 수를 더해서 target이 되는 두 수의 인덱스를 반환하세요.\u001b[0m\n\u001b[0m    ^\u001b[0m\n\u001b[0;31mSyntaxError\u001b[0m\u001b[0;31m:\u001b[0m invalid syntax\n"
     ]
    }
   ],
   "source": [
    "\n",
    "**문제 설명**: 정수 배열 nums와 정수 target이 주어질 때, nums에서 두 수를 더해서 target이 되는 두 수의 인덱스를 반환하세요.\n",
    "\n",
    "**입력 예시**:\n",
    "```\n",
    "nums = [2, 7, 11, 15], target = 9\n",
    "```\n",
    "\n",
    "**출력**:\n",
    "```\n",
    "[0, 1] (nums[0] + nums[1] = 2 + 7 = 9)\n",
    "```\n",
    "\n",
    "**풀이 방법**:\n",
    "```python\n",
    "def two_sum(nums, target):\n",
    "    # 값을 키로, 인덱스를 값으로 저장하는 딕셔너리\n",
    "    num_map = {}\n",
    "    \n",
    "    for i, num in enumerate(nums):  \n",
    "        # 현재 숫자와 더해서 target이 되는 숫자\n",
    "        complement = target - num\n",
    "        \n",
    "        # 그 숫자가 이미 딕셔너리에 있다면 정답 반환\n",
    "        if complement in num_map:\n",
    "            return [num_map[complement], i]\n",
    "        \n",
    "        # 현재 숫자의 인덱스를 딕셔너리에 저장\n",
    "        num_map[num] = i\n",
    "    \n",
    "    return []  # 답이 없는 경우\n",
    "```"
   ]
  },
  {
   "cell_type": "code",
   "execution_count": null,
   "metadata": {},
   "outputs": [],
   "source": [
    "def two_sum(nums, target):\n",
    "    num_map = {} # 빈 딕셔너리 생성\n",
    "\n",
    "    for i, num in enumerate(nums):\n",
    "        complement = target - num\n",
    "        if complement in num_map:\n",
    "            return [num_map[complement], i]\n",
    "\n",
    "        num_map[num] = i\n",
    "\n",
    "    return []"
   ]
  },
  {
   "cell_type": "code",
   "execution_count": null,
   "metadata": {},
   "outputs": [],
   "source": [
    "numbers = [1,2,3,4,5]\n",
    "for num in numbers:\n",
    "    if num % 2 == 0:\n",
    "        print(f\"{num}은 짝수입니다\")\n",
    "    else:\n",
    "        print(f\"{num}은 홀수입니다\")"
   ]
  },
  {
   "cell_type": "code",
   "execution_count": null,
   "metadata": {},
   "outputs": [],
   "source": [
    "total = 0\n",
    "for i in range(1, 11):\n",
    "    total += i\n",
    "print(total)"
   ]
  },
  {
   "cell_type": "code",
   "execution_count": null,
   "metadata": {},
   "outputs": [],
   "source": [
    "sentence = \"파이썬은 재밌다\"\n",
    "words = sentence.split()\n",
    "print(f\"단어 개수: {len(words)}\")"
   ]
  },
  {
   "cell_type": "code",
   "execution_count": null,
   "metadata": {},
   "outputs": [],
   "source": [
    "코딩 테스트를 위한 파이썬 기초 가이드\n",
    "파이썬 기초부터 차근차근 시작해보겠습니다. 오늘은 코딩 테스트에 꼭 필요한 기본 개념들에 집중하겠습니다.\n",
    "1. 기본 자료형과 변수\n",
    "숫자형\n",
    "python# 정수\n",
    "a = 10\n",
    "b = -5\n",
    "\n",
    "# 실수\n",
    "c = 3.14\n",
    "\n",
    "# 연산\n",
    "sum_result = a + b  # 5\n",
    "product = a * b     # -50\n",
    "division = a / b    # -2.0 (항상 실수 반환)\n",
    "int_division = a // b  # -2 (정수 나눗셈)\n",
    "remainder = a % 3   # 1 (나머지)\n",
    "power = a ** 2      # 100 (10의 제곱)\n",
    "문자열\n",
    "python# 문자열 생성\n",
    "name = \"Python\"\n",
    "sentence = 'Python is fun'\n",
    "\n",
    "# 문자열 연결\n",
    "full_sentence = name + \" \" + \"is fun\"  # \"Python is fun\"\n",
    "\n",
    "# 문자열 인덱싱 (0부터 시작)\n",
    "first_char = name[0]    # 'P'\n",
    "last_char = name[-1]    # 'n'\n",
    "\n",
    "# 문자열 슬라이싱 [시작:끝]\n",
    "substring = name[1:4]   # 'yth' (1번 인덱스부터 3번 인덱스까지)\n",
    "2. 조건문 (if-else)\n",
    "기본 구조\n",
    "python# 기본 if-else 문\n",
    "x = 10\n",
    "if x > 5:\n",
    "    print(\"x는 5보다 큽니다\")\n",
    "else:\n",
    "    print(\"x는 5 이하입니다\")\n",
    "\n",
    "# if-elif-else 구조\n",
    "score = 85\n",
    "if score >= 90:\n",
    "    grade = \"A\"\n",
    "elif score >= 80:\n",
    "    grade = \"B\"\n",
    "elif score >= 70:\n",
    "    grade = \"C\"\n",
    "else:\n",
    "    grade = \"D\"\n",
    "논리 연산자\n",
    "python# and, or, not\n",
    "a, b = 5, 10\n",
    "if a > 0 and b > 0:\n",
    "    print(\"둘 다 양수입니다\")\n",
    "\n",
    "if a > 0 or b < 0:\n",
    "    print(\"하나 이상이 조건을 만족합니다\")\n",
    "\n",
    "if not a > b:\n",
    "    print(\"a는 b보다 크지 않습니다\")\n",
    "3. 반복문 (for, while)\n",
    "for 반복문\n",
    "python# 범위를 이용한 반복\n",
    "for i in range(5):  # 0부터 4까지\n",
    "    print(i, end=\" \")  # 0 1 2 3 4\n",
    "\n",
    "# 리스트를 이용한 반복\n",
    "animals = [\"dog\", \"cat\", \"bird\"]\n",
    "for animal in animals:\n",
    "    print(animal, end=\" \")  # dog cat bird\n",
    "\n",
    "# 인덱스와 값 함께 사용\n",
    "for index, animal in enumerate(animals):\n",
    "    print(f\"{index}: {animal}\")  # 0: dog, 1: cat, 2: bird\n",
    "while 반복문\n",
    "python# 조건이 참인 동안 반복\n",
    "count = 0\n",
    "while count < 5:\n",
    "    print(count, end=\" \")  # 0 1 2 3 4\n",
    "    count += 1  # count를 1 증가\n",
    "\n",
    "# break로 반복문 탈출\n",
    "num = 0\n",
    "while True:\n",
    "    print(num, end=\" \")\n",
    "    num += 1\n",
    "    if num >= 5:\n",
    "        break  # 조건 만족 시 반복문 탈출\n",
    "\n",
    "# continue로 현재 반복 건너뛰기\n",
    "for i in range(10):\n",
    "    if i % 2 == 0:  # 짝수면 건너뛰기\n",
    "        continue\n",
    "    print(i, end=\" \")  # 1 3 5 7 9\n",
    "4. 리스트 기본 조작\n",
    "리스트 생성 및 접근\n",
    "python# 리스트 생성\n",
    "numbers = [1, 2, 3, 4, 5]\n",
    "mixed = [1, \"hello\", 3.14, True]\n",
    "\n",
    "# 인덱싱\n",
    "first = numbers[0]     # 1\n",
    "last = numbers[-1]     # 5\n",
    "\n",
    "# 슬라이싱\n",
    "subset = numbers[1:4]  # [2, 3, 4]\n",
    "리스트 수정\n",
    "python# 값 변경\n",
    "numbers[0] = 10        # [10, 2, 3, 4, 5]\n",
    "\n",
    "# 원소 추가\n",
    "numbers.append(6)      # [10, 2, 3, 4, 5, 6]\n",
    "numbers.insert(1, 15)  # [10, 15, 2, 3, 4, 5, 6]\n",
    "\n",
    "# 원소 제거\n",
    "numbers.pop()          # 마지막 원소 제거: [10, 15, 2, 3, 4, 5]\n",
    "numbers.pop(1)         # 인덱스 1 원소 제거: [10, 2, 3, 4, 5]\n",
    "numbers.remove(3)      # 값이 3인 원소 제거: [10, 2, 4, 5]\n",
    "리스트 기본 연산\n",
    "python# 리스트 결합\n",
    "list1 = [1, 2, 3]\n",
    "list2 = [4, 5]\n",
    "combined = list1 + list2  # [1, 2, 3, 4, 5]\n",
    "\n",
    "# 리스트 길이\n",
    "length = len(combined)    # 5\n",
    "\n",
    "# 정렬\n",
    "numbers = [3, 1, 4, 2]\n",
    "numbers.sort()            # [1, 2, 3, 4]\n",
    "numbers.sort(reverse=True)  # [4, 3, 2, 1]\n",
    "\n",
    "# 역순\n",
    "numbers.reverse()         # [1, 2, 3, 4]\n",
    "5. 딕셔너리 기본 조작\n",
    "딕셔너리 생성 및 접근\n",
    "python# 딕셔너리 생성\n",
    "person = {\n",
    "    \"name\": \"Alice\",\n",
    "    \"age\": 25,\n",
    "    \"city\": \"Seoul\"\n",
    "}\n",
    "\n",
    "# 값 접근\n",
    "name = person[\"name\"]     # \"Alice\"\n",
    "# 또는 안전한 방법으로\n",
    "age = person.get(\"age\")   # 25\n",
    "# 없는 키는 None 반환\n",
    "country = person.get(\"country\")  # None\n",
    "# 기본값 지정\n",
    "phone = person.get(\"phone\", \"Unknown\")  # \"Unknown\"\n",
    "딕셔너리 수정\n",
    "python# 항목 추가/수정\n",
    "person[\"email\"] = \"alice@example.com\"\n",
    "person[\"age\"] = 26\n",
    "\n",
    "# 항목 제거\n",
    "del person[\"city\"]\n",
    "phone = person.pop(\"phone\", None)  # 키가 있으면 제거하고 값 반환, 없으면 None\n",
    "딕셔너리 순회\n",
    "python# 키 순회\n",
    "for key in person:\n",
    "    print(f\"{key}: {person[key]}\")\n",
    "\n",
    "# 키-값 쌍 순회\n",
    "for key, value in person.items():\n",
    "    print(f\"{key}: {value}\")\n",
    "\n",
    "# 키만 가져오기\n",
    "keys = person.keys()\n",
    "\n",
    "# 값만 가져오기\n",
    "values = person.values()\n",
    "6. 코딩 테스트에서 자주 사용되는 기본 알고리즘\n",
    "정렬\n",
    "python# 리스트 정렬\n",
    "numbers = [3, 1, 4, 1, 5, 9, 2]\n",
    "numbers.sort()  # 원본 정렬\n",
    "\n",
    "# 새 리스트로 정렬\n",
    "original = [3, 1, 4, 1, 5]\n",
    "sorted_list = sorted(original)  # 원본은 유지, 새 리스트 반환\n",
    "검색\n",
    "python# 리스트에서 값 찾기\n",
    "numbers = [1, 2, 3, 4, 5]\n",
    "if 3 in numbers:\n",
    "    print(\"3이 리스트에 있습니다\")\n",
    "\n",
    "# 인덱스 찾기\n",
    "index = numbers.index(3)  # 2\n",
    "\n",
    "# 횟수 세기\n",
    "count = numbers.count(1)  # 1이 나타난 횟수"
   ]
  },
  {
   "cell_type": "markdown",
   "metadata": {},
   "source": [
    "코딩 테스트에서 90%는 다음 지식만으로 해결 가능합니다:\n",
    "\n",
    "기본 자료형: 숫자, 문자열, 리스트, 딕셔너리\n",
    "조건문: if-else\n",
    "반복문: for, while\n",
    "기본 자료구조: 리스트, 딕셔너리(해시맵)\n",
    "몇 가지 기본 알고리즘: 정렬, 검색"
   ]
  },
  {
   "cell_type": "markdown",
   "metadata": {},
   "source": [
    "------\n",
    "1부터 n까지의 모든 짝수의 합을 계산하는 함수를 작성하세요."
   ]
  },
  {
   "cell_type": "code",
   "execution_count": 17,
   "metadata": {},
   "outputs": [
    {
     "name": "stdout",
     "output_type": "stream",
     "text": [
      "6\n"
     ]
    }
   ],
   "source": [
    "def sum_of_even(n):\n",
    "    total = 0\n",
    "    for i in range(1, n+1):\n",
    "        if i % 2 == 0:\n",
    "            total += i\n",
    "    return total\n",
    "    \n",
    "print(sum_of_even(4))"
   ]
  },
  {
   "cell_type": "code",
   "execution_count": 2,
   "metadata": {},
   "outputs": [
    {
     "name": "stdout",
     "output_type": "stream",
     "text": [
      "2\n"
     ]
    }
   ],
   "source": [
    "def sum_of_even(n):\n",
    "    total = 0\n",
    "    for i in range(1, n+1):\n",
    "        if i % 2 == 0:\n",
    "            total += i\n",
    "    return total\n",
    "\n",
    "print(sum_of_even(3))\n"
   ]
  },
  {
   "cell_type": "markdown",
   "metadata": {},
   "source": [
    "문장에서 각 단어가 몇 번 등장하는지 세는 함수를 작성하세요.\n"
   ]
  },
  {
   "cell_type": "code",
   "execution_count": 3,
   "metadata": {},
   "outputs": [
    {
     "name": "stdout",
     "output_type": "stream",
     "text": [
      "{'cat': 1, 'dog': 2}\n"
     ]
    }
   ],
   "source": [
    "def count_words(sentence):\n",
    "    words = sentence.lower().split()\n",
    "    word_count ={}\n",
    "\n",
    "    for word in words:\n",
    "        if word in word_count:\n",
    "            word_count[word] += 1\n",
    "        else:\n",
    "            word_count[word] = 1 \n",
    "\n",
    "    return word_count\n",
    "\n",
    "print(count_words(\"cat dog Dog\"))\n"
   ]
  },
  {
   "cell_type": "code",
   "execution_count": 7,
   "metadata": {},
   "outputs": [
    {
     "name": "stdout",
     "output_type": "stream",
     "text": [
      "{'cat': 1, 'poop': 2, 'dog': 1}\n"
     ]
    }
   ],
   "source": [
    "def count_words(sentence):\n",
    "    words = sentence.lower().split()\n",
    "    word_count = {}\n",
    "\n",
    "    for word in words:\n",
    "        if word in word_count:\n",
    "            word_count[word] += 1 \n",
    "        else:\n",
    "            word_count[word] = 1\n",
    "\n",
    "    return word_count\n",
    "print(count_words(\"cat poop dog poop\"))"
   ]
  },
  {
   "cell_type": "code",
   "execution_count": 11,
   "metadata": {},
   "outputs": [
    {
     "name": "stdout",
     "output_type": "stream",
     "text": [
      "{'banana': 1, 'cat': 2, 'dog': 1, 'god': 1}\n"
     ]
    }
   ],
   "source": [
    "def count_words(sentence):\n",
    "    words = sentence.lower().split()\n",
    "    word_count = {}\n",
    "\n",
    "    for word in words:\n",
    "        if word in word_count:\n",
    "            word_count[word] += 1\n",
    "        else:\n",
    "            word_count[word] = 1\n",
    "    \n",
    "    return word_count\n",
    "\n",
    "print(count_words(\"banana cat dog god cat\"))"
   ]
  },
  {
   "cell_type": "markdown",
   "metadata": {},
   "source": [
    "정수 리스트에서 최대값과 최소값을 찾는 함수를 작성하세요"
   ]
  },
  {
   "cell_type": "code",
   "execution_count": 5,
   "metadata": {},
   "outputs": [
    {
     "name": "stdout",
     "output_type": "stream",
     "text": [
      "최소값:1, 최대값: 9\n"
     ]
    }
   ],
   "source": [
    "def find_min_max(numbers):\n",
    "    if not numbers:\n",
    "        return None, None\n",
    "    \n",
    "    min_val = max_val = numbers[0]\n",
    "\n",
    "    for num in numbers:\n",
    "        if num < min_val:\n",
    "            min_val = num\n",
    "        if num > max_val:\n",
    "            max_val =num\n",
    "\n",
    "    return min_val, max_val\n",
    "\n",
    "nums =[4, 2, 9, 7, 1,8]\n",
    "min_val, max_val = find_min_max(nums)\n",
    "print(f\"최소값:{min_val}, 최대값: {max_val}\")\n"
   ]
  },
  {
   "cell_type": "markdown",
   "metadata": {},
   "source": [
    "섭씨 온도를 화씨 온도로 변환하는 함수를 작성하세요. (화씨 = 섭씨 × 9/5 + 32)"
   ]
  },
  {
   "cell_type": "code",
   "execution_count": 6,
   "metadata": {},
   "outputs": [
    {
     "name": "stdout",
     "output_type": "stream",
     "text": [
      "32.0\n",
      "212.0\n"
     ]
    }
   ],
   "source": [
    "def celsius_to_fahrenheit(celsius):\n",
    "    fahrenheit = celsius * 9/5 + 32\n",
    "    return fahrenheit\n",
    "\n",
    "print(celsius_to_fahrenheit(0))\n",
    "print(celsius_to_fahrenheit(100))"
   ]
  },
  {
   "cell_type": "markdown",
   "metadata": {},
   "source": [
    "주어진 문자열에서 모음(a, e, i, o, u)의 개수를 반환하는 함수를 작성하세요."
   ]
  },
  {
   "cell_type": "code",
   "execution_count": 7,
   "metadata": {},
   "outputs": [
    {
     "name": "stdout",
     "output_type": "stream",
     "text": [
      "3\n"
     ]
    }
   ],
   "source": [
    "def count_vowels(string):\n",
    "    vowels =\"aeiouAEIOU\"\n",
    "    count = 0\n",
    "    for char in string:\n",
    "        if char in vowels:\n",
    "            count += 1\n",
    "    return count\n",
    "\n",
    "print(count_vowels(\"Hello World\"))"
   ]
  },
  {
   "cell_type": "markdown",
   "metadata": {},
   "source": [
    "정수를 입력받아 그 수를 뒤집어 반환하는 함수를 작성하세요."
   ]
  },
  {
   "cell_type": "code",
   "execution_count": 8,
   "metadata": {},
   "outputs": [
    {
     "name": "stdout",
     "output_type": "stream",
     "text": [
      "321\n"
     ]
    }
   ],
   "source": [
    "def reverse_number(num):\n",
    "    return int(str(num)[::-1])\n",
    "\n",
    "print(reverse_number(123))\n"
   ]
  },
  {
   "cell_type": "markdown",
   "metadata": {},
   "source": [
    "문자열이 앞뒤로 동일하게 읽히는 팰린드롬인지 확인하는 함수를 작성하세요."
   ]
  },
  {
   "cell_type": "code",
   "execution_count": 9,
   "metadata": {},
   "outputs": [
    {
     "name": "stdout",
     "output_type": "stream",
     "text": [
      "False\n",
      "True\n"
     ]
    }
   ],
   "source": [
    "def is_palindrome(string):\n",
    "    clean_string = string.lower().replace(\" \", \"\")\n",
    "    return clean_string == clean_string[::-1]\n",
    "\n",
    "print(is_palindrome(\"rececaer\"))\n",
    "print(is_palindrome(\"tenet\"))"
   ]
  },
  {
   "cell_type": "markdown",
   "metadata": {},
   "source": [
    "문장의 각 단어 첫 글자를 대문자로 변환하는 함수를 작성하세요."
   ]
  },
  {
   "cell_type": "code",
   "execution_count": 10,
   "metadata": {},
   "outputs": [
    {
     "name": "stdout",
     "output_type": "stream",
     "text": [
      "Hello World\n"
     ]
    }
   ],
   "source": [
    "def capitalize_words(sentence):\n",
    "    return ' '.join(word.capitalize() for word in sentence.split())\n",
    "\n",
    "\n",
    "print(capitalize_words(\"hello world\"))"
   ]
  },
  {
   "cell_type": "code",
   "execution_count": null,
   "metadata": {},
   "outputs": [],
   "source": []
  }
 ],
 "metadata": {
  "kernelspec": {
   "display_name": "Python (mldl)",
   "language": "python",
   "name": "mldl"
  },
  "language_info": {
   "codemirror_mode": {
    "name": "ipython",
    "version": 3
   },
   "file_extension": ".py",
   "mimetype": "text/x-python",
   "name": "python",
   "nbconvert_exporter": "python",
   "pygments_lexer": "ipython3",
   "version": "3.12.7"
  }
 },
 "nbformat": 4,
 "nbformat_minor": 2
}
